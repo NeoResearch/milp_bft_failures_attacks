!pip install mip
from itertools import product
from mip import Model, BINARY, INTEGER, xsum

# number of allowed faulty nodes
f = 1
# Total number of nodes
N = 3*f+1
# safe number of honest nodes
M = 2*f+1
tMax = 8

# custom data can be loaded here
R = set(range(1, N + 1))
R_OK = set(range(1, M + 1))
V = set(range(1, N + 1))
T = set(range(1, tMax + 1))

m = Model()
Primary = {
    (r, v): m.add_var("Primary(%s,%s)" % (r, v), var_type=BINARY)
    for (r, v) in product(R, V)
}
SendPrepReq = {
    (t, r, v): m.add_var("SendPrepReq(%s,%s,%s)" % (t, r, v), var_type=BINARY)
    for (t, r, v) in product(T, R, V)
}
SendPrepRes = {
    (t, r, v): m.add_var("SendPrepRes(%s,%s,%s)" % (t, r, v), var_type=BINARY)
    for (t, r, v) in product(T, R, V)
}
SendCommit = {
    (t, r, v): m.add_var("SendCommit(%s,%s,%s)" % (t, r, v), var_type=BINARY)
    for (t, r, v) in product(T, R, V)
}
SendCV = {
    (t, r, v): m.add_var("SendCV(%s,%s,%s)" % (t, r, v), var_type=BINARY)
    for (t, r, v) in product(T, R, V)
}
BlockRelay = {
    (t, r, v): m.add_var("BlockRelay(%s,%s,%s)" % (t, r, v), var_type=BINARY)
    for (t, r, v) in product(T, R, V)
}
RecvPrepReq = {
    (t, r1, r2, v): m.add_var(
        "RecvPrepReq(%s,%s,%s,%s)" % (t, r1, r2, v), var_type=BINARY
    )
    for (t, r1, r2, v) in product(T, R, R, V)
}
RecvPrepResp = {
    (t, r1, r2, v): m.add_var(
        "RecvPrepResp(%s,%s,%s,%s)" % (t, r1, r2, v), var_type=BINARY
    )
    for (t, r1, r2, v) in product(T, R, R, V)
}
RecvCommit = {
    (t, r1, r2, v): m.add_var(
        "RecvCommit(%s,%s,%s,%s)" % (t, r1, r2, v), var_type=BINARY
    )
    for (t, r1, r2, v) in product(T, R, R, V)
}
RecvCV = {
    (t, r1, r2, v): m.add_var("RecvCV(%s,%s,%s,%s)" % (t, r1, r2, v), var_type=BINARY)
    for (t, r1, r2, v) in product(T, R, R, V)
}

# auxiliary variables
totalBlockRelayed = m.add_var("totalBlockRelayed")
lastRelayedBlock = m.add_var("lastRelayedBlock", var_type=INTEGER)
numberOfRounds = m.add_var("numberOfRounds", var_type=INTEGER)
blockRelayed = {v: m.add_var("blockRelayed(%s)" % v, var_type=BINARY) for v in V}
prepReqSendPerNodeAndView = {
    (r, v): m.add_var("prepReqSendPerNodeAndView(%d,%d)" % (r, v), var_type=INTEGER)
    for (r, v) in product(R, V)
}
prepRespSendPerNodeAndView = {
    (r, v): m.add_var("prepRespSendPerNodeAndView(%d,%d)" % (r, v), var_type=INTEGER)
    for (r, v) in product(R, V)
}
commitSendPerNodeAndView = {
    (r, v): m.add_var("commitSendPerNodeAndView(%d,%d)" % (r, v), var_type=INTEGER)
    for (r, v) in product(R, V)
}
changeViewSendPerNodeAndView = {
    (r, v): m.add_var("changeViewSendPerNodeAndView(%d,%d)" % (r, v), var_type=INTEGER)
    for (r, v) in product(R, V)
}
prepReqRecvPerNodeAndView = {
    (r, v): m.add_var("prepReqRecvPerNodeAndView(%d,%d)" % (r, v), var_type=INTEGER)
    for (r, v) in product(R, V)
}
prepRespRecvPerNodeAndView = {
    (r, v): m.add_var("prepRespRecvPerNodeAndView(%d,%d)" % (r, v), var_type=INTEGER)
    for (r, v) in product(R, V)
}
changeViewRecvPerNodeAndView = {
    (r, v): m.add_var("changeViewRecvPerNodeAndView(%d,%d)" % (r, v), var_type=INTEGER)
    for (r, v) in product(R, V)
}
commitRecvPerNodeAndView = {
    (r, v): m.add_var("commitRecvPerNodeAndView(%d,%d)" % (r, v), var_type=INTEGER)
    for (r, v) in product(R, V)
}
blockRelayPerNodeAndView = {
    (r, v): m.add_var("blockRelayPerNodeAndView(%d,%d)" % (r, v), var_type=INTEGER)
    for (r, v) in product(R, V)
}

# Time zero constraints
for (i, v) in product(R, V):
    m += SendPrepReq[(1, i, v)] == 0, "initializeSendPrepareReq(%s,%s)" % (i, v)

for (i, j, v) in product(R, R, V):
    m += RecvPrepReq[(1, i, j, v)] == 0, "initializeRecvPrepareReq(%s,%s,%s)" % (i, j, v)

for (i, v) in product(R, V):
    SendPrepRes[1, i, v] == 0, "initializeSendPrepareResp(%d,%d)" % (i, v)

for (i, j, v) in product(R, R, V):
    m += RecvPrepResp[1, i, j, v] == 0, "initializeRecvPrepareResp(%s,%s,%d)" % (i, j, v)

for (i, v) in product(R, V):
    m += SendCommit[1, i, v] == 0, "initializeSendCommit(%s,%s)" % (i, v)

for (i, j, v) in product(R, R, V):
    m += RecvCommit[1, i, j, v] == 0, "initializeRecvCommit(%s,%s, %s)" % (i, j, v)

for (i, v) in product(R, V):
    m += SendCV[1, i, v] == 0, "initializeSendChangeView(%s,%s)" % (i, v)

for (i, j, v) in product(R, R, V):
    m += RecvCV[1, i, j, v] == 0, "initializeRecvCV(%s,%s,%s)" % (i, j, v)

for (i, v) in product(R, V):
    m += BlockRelay[1, i, v] == 0, "initializeBlockRelay(%s,%s)" % (i, v)

# primary constraints
m += xsum(Primary[i, 1] for i in R) == 1, "consensusShouldStart(%d)" % i

for v in V:
    m += xsum(Primary[i, v] for i in R) <= 1, "singlePrimaryEveryView(%s)" % v

for i in R:
    m += xsum(Primary[i, v] for v in V) <= 1, "primaryOnlyOnce(%s)" % i

for v in V - {1}:
    m += (
        xsum(Primary[i, v] * (v - 1) for i in R)
        <= xsum(Primary[i, v2] for v2 in V if v2 < v),
        "avoidJumpingViews(%s)" % v,
    )

# nextPrimaryOnlyIfEnoughCV - add name
for (i, v) in product(R, V - {1}):
    m += Primary[i, v] <= changeViewRecvPerNodeAndView[i, v - 1] / M

# Send Payload only once (PrepReq,PrepRes,Commit,CV,Block)
# Note PrepReq deals with Primary, thus, it ensures single PreReq and discard any other except from Primary
for (i, v) in product(R, V):
    m += (
        xsum(SendPrepReq[t, i, v] for t in T - {1}) <= Primary[i, v],
        "prepReqOOJustPrimary(%s,%s)" % (i, v),
    )  
    m += (
        xsum(SendPrepRes[t, i, v] for t in T - {1}) <= 1,
        "sendPrepResOO(%s,%s)" % (i, v),
    )
    m += (
        xsum(SendCommit[t, i, v] for t in T - {1}) <= 1,
        "sendCommitOO(%s,%s)" % (i, v),
    )
    m += (
        xsum(SendCV[t, i, v] for t in T - {1}) <= 1,
        "sendCVOO(%s,%s)" % (i, v),
    )
    m += (
        xsum(BlockRelay[t, i, v] for t in T - {1}) <= 1,
        "blockRelayOO(%s,%s)" % (i, v),
    )       

# Maybe a function could compact the code
# Register Payload Self-Sended (PrepReq,PrepRes, Commit, CV)
for (t, i, v) in product(T - {1}, R, V):
    m += (
        (RecvPrepReq[t, i, i, v] == SendPrepReq[t, i, v]),
        "prepReqReceivedSS(%s,%s,%s)" % (t, i, v),
    )
    m += (
        (RecvPrepResp[t, i, i, v] == SendPrepRes[t, i, v]),
        "prepRespReceivedSS(%s,%s,%s)" % (t, i, v),
    )
    m += (
        (RecvCommit[t, i, i, v] == SendCommit[t, i, v]),
        "commitReceivedSS(%s,%s,%s)" % (t, i, v),
    )
    m += (
        (RecvCV[t, i, i, v] == SendCV[t, i, v]),
        "receivedCVSS(%s,%s,%s)" % (t, i, v),
    )    

# Register Payload (PrepReq,PrepRes and Commit)
for (t, i, j, v) in product(T - {1}, R, R, V):
    if j != i:
        m += (
            (
                RecvPrepReq[t, i, j, v]
                <= xsum(SendPrepReq[t2, j, v] for t2 in T if 1 < t2 < t),
            ),
            "prepReqReceived(%s,%s,%s,%d)" % (t, i, j, v),
        )
        m += (
            (
                RecvPrepResp[t, i, j, v]
                <= xsum(SendPrepRes[t2, j, v] for t2 in T if 1 < t2 < t),
            ),
            "prepRespReceived(%s,%s,%s,%s)" % (t, i, j, v),
        )
        m += (
            (
                RecvCommit[t, i, j, v]
                <= xsum(SendCommit[t2, j, v] for t2 in T if 1 < t2 < t),
            ),
            "commitReceived(%s,%s,%s,%d)" % (t, i, j, v),
        )
        m += (
            (
                RecvCV[t, i, j, v]
                <= xsum(SendCV[t2, j, v] for t2 in T if 1 < t2 < t),
            ),
            "cvReceived(%s,%s,%s,%s)" % (t, i, j, v),
        )           

# Received only once
for (i, j, v) in product(R, R, V):
    m += (
        xsum(RecvPrepReq[t, i, j, v] for t in T) <= 1,
        "rcvdPrepReqOO(%s,%s,%s)" % (i, j, v),
    )
    m += (
        xsum(RecvPrepResp[t, i, j, v] for t in T) <= 1,
        "rcvdPrepResOO(%s,%s,%s)" % (i, j, v),
    )    
    m += (
        xsum(RecvCommit[t, i, j, v] for t in T) <= 1,
        "rcvdCommitOO(%s,%s,%s)" % (i, j, v),
    )
    m += (
        xsum(RecvCV[t, i, j, v] for t in T) <= 1,
        "rcvdCVOO(%s,%s,%s)" % (i, j, v),
    )    
      
# Defines when a node can optionally send a payload
for (t, i, v) in product(T - {1}, R, V):
    m += (
        SendPrepRes[t, i, v]
        <= xsum(RecvPrepReq[t2, i, j, v] for t2 in T if t2 <= t for j in R),
        "prepRespSendOptionally(%s,%s,%s)" % (t, i, v),
    )
    m += (
        SendCommit[t, i, v]
        <= xsum((1 / M) * RecvPrepResp[t2, i, j, v] for t2 in T if t2 <= t for j in R),
        "commitSentIfMPrepRespOptionally(%s,%s,%s)" % (t, i, v),
    )
    m += (
        BlockRelay[t, i, v]
        <= xsum((1 / M) * RecvCommit[t2, i, j, v] for t2 in T if t2 <= t for j in R),
        "blockRelayOptionallyOnlyIfEnoughCommits(%s,%s,%s)" % (t, i, v),
    )

# HONEST NODES CONSTRAINTS

# CALCULATION OF AUXILIARY VARIABLES

m.verbose = 1
m.optimize(max_seconds=1000)

print("model now has %d variables and %d constraints" % (m.num_cols, m.num_rows))

